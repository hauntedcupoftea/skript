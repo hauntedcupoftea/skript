{
 "cells": [
  {
   "cell_type": "markdown",
   "metadata": {},
   "source": [
    "## Welcome to Skript.\n",
    "This project is the work of Anand Chauhan, Vasu Jain, and Aayush Gupta. Students enrolled at Bennett University, for the purpose of a Probability and Statistics Hackathon as part of their curriculum."
   ]
  },
  {
   "cell_type": "code",
   "execution_count": 23,
   "metadata": {},
   "outputs": [],
   "source": [
    "# importing all libraries in one cell\n",
    "import numpy as np\n",
    "import pandas as pd\n",
    "import collections\n",
    "from collections import Counter\n",
    "import matplotlib as plt\n",
    "import re\n",
    "import spacy"
   ]
  },
  {
   "cell_type": "code",
   "execution_count": 25,
   "metadata": {},
   "outputs": [],
   "source": [
    "# opening a sample speech, and seperate every sentence in the speech.\n",
    "f = open('sample.txt', 'r', encoding=\"utf8\")\n",
    "sample = np.array(re.split(r'(\\. )|(\\n)', f.read()))\n",
    "sample = sample[sample != np.array(None)]\n",
    "cleansample = np.array([i for i in sample if len(i) > 6])"
   ]
  },
  {
   "cell_type": "code",
   "execution_count": 11,
   "metadata": {},
   "outputs": [],
   "source": [
    "# load spacy NLP model\n",
    "spacy.prefer_gpu()\n",
    "nlp = spacy.load('en_core_web_sm')"
   ]
  },
  {
   "cell_type": "code",
   "execution_count": 14,
   "metadata": {},
   "outputs": [
    {
     "name": "stdout",
     "output_type": "stream",
     "text": [
      "text     POS    TAG    Dep    POS explained        tag explained \n",
      "Five     NUM    CD     nummod numeral              cardinal number\n",
      "score    NOUN   NN     npadvmod noun                 noun, singular or mass\n",
      "years    NOUN   NNS    npadvmod noun                 noun, plural\n",
      "ago      ADV    RB     advmod adverb               adverb\n",
      ",        PUNCT  ,      punct  punctuation          punctuation mark, comma\n",
      "a        DET    DT     det    determiner           determiner\n",
      "great    ADJ    JJ     amod   adjective            adjective (English), other noun-modifier (Chinese)\n",
      "American ADJ    JJ     nsubj  adjective            adjective (English), other noun-modifier (Chinese)\n",
      "in       ADP    IN     prep   adposition           conjunction, subordinating or preposition\n",
      "whose    DET    WP$    poss   determiner           wh-pronoun, possessive\n",
      "symbolic ADJ    JJ     amod   adjective            adjective (English), other noun-modifier (Chinese)\n",
      "shadow   NOUN   NN     pobj   noun                 noun, singular or mass\n",
      "we       PRON   PRP    nsubj  pronoun              pronoun, personal\n",
      "stand    VERB   VBP    relcl  verb                 verb, non-3rd person singular present\n",
      "today    NOUN   NN     npadvmod noun                 noun, singular or mass\n",
      ",        PUNCT  ,      punct  punctuation          punctuation mark, comma\n",
      "signed   VERB   VBD    ROOT   verb                 verb, past tense\n",
      "the      DET    DT     det    determiner           determiner\n",
      "Emancipation PROPN  NNP    compound proper noun          noun, proper singular\n",
      "Proclamation PROPN  NNP    dobj   proper noun          noun, proper singular\n"
     ]
    }
   ],
   "source": [
    "# a sample of tokenizing with Spacy\n",
    "doc = nlp(str(cleansample[1]))\n",
    "\n",
    "print(f\"{'text':{8}} {'POS':{6}} {'TAG':{6}} {'Dep':{6}} {'POS explained':{20}} {'tag explained'} \")\n",
    "for token in doc:\n",
    "    print(f'{token.text:{8}} {token.pos_:{6}} {token.tag_:{6}} {token.dep_:{6}} {spacy.explain(token.pos_):{20}} {spacy.explain(token.tag_)}')"
   ]
  },
  {
   "cell_type": "code",
   "execution_count": 32,
   "metadata": {},
   "outputs": [],
   "source": [
    "# a tangent, making a numpy array with every individual word.\n",
    "words = [i.split() for i in cleansample]\n",
    "punc = '''!()-[]{};:'\"\\,<>./?@#$%^&*_~'''\n",
    "cleanwords = []\n",
    "for i in words:\n",
    "    for x in i:\n",
    "        x.replace(punc, \"\")\n",
    "        cleanwords.append(x.lower())"
   ]
  },
  {
   "cell_type": "code",
   "execution_count": 36,
   "metadata": {},
   "outputs": [
    {
     "name": "stdout",
     "output_type": "stream",
     "text": [
      "count for can is: 4\n",
      "count for shall is: 5\n",
      "count for will is: 27\n",
      "count for would is: 2\n",
      "count for must is: 8\n"
     ]
    }
   ],
   "source": [
    "results = dict(Counter(cleanwords))\n",
    "modal = ['can', 'could', 'may', 'might', 'shall', 'should', 'will', 'would', 'must', 'ought', 'used', 'need', 'dare']\n",
    "for i in modal:\n",
    "    try:\n",
    "        print(f\"count for {i} is: {results[i]}\")\n",
    "    except:\n",
    "        continue"
   ]
  }
 ],
 "metadata": {
  "kernelspec": {
   "display_name": "Python 3.9.13 ('tf')",
   "language": "python",
   "name": "python3"
  },
  "language_info": {
   "codemirror_mode": {
    "name": "ipython",
    "version": 3
   },
   "file_extension": ".py",
   "mimetype": "text/x-python",
   "name": "python",
   "nbconvert_exporter": "python",
   "pygments_lexer": "ipython3",
   "version": "3.9.13"
  },
  "orig_nbformat": 4,
  "vscode": {
   "interpreter": {
    "hash": "6314624a9b716fa5073b1b74923d7a0fe6a712a100f298bdf1d68454cdfed291"
   }
  }
 },
 "nbformat": 4,
 "nbformat_minor": 2
}
