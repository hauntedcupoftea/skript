{
 "cells": [
  {
   "cell_type": "markdown",
   "metadata": {},
   "source": [
    "## Welcome to Skript.\n",
    "This project is the work of Anand Chauhan, Vasu Jain, and Aayush Gupta. Students enrolled at Bennett University, for the purpose of a Probability and Statistics Hackathon as part of their curriculum."
   ]
  },
  {
   "cell_type": "code",
   "execution_count": 1,
   "metadata": {},
   "outputs": [
    {
     "name": "stderr",
     "output_type": "stream",
     "text": [
      "2022-11-06 07:25:24.850282: I tensorflow/core/platform/cpu_feature_guard.cc:193] This TensorFlow binary is optimized with oneAPI Deep Neural Network Library (oneDNN) to use the following CPU instructions in performance-critical operations:  AVX2 FMA\n",
      "To enable them in other operations, rebuild TensorFlow with the appropriate compiler flags.\n",
      "2022-11-06 07:25:24.999187: E tensorflow/stream_executor/cuda/cuda_blas.cc:2981] Unable to register cuBLAS factory: Attempting to register factory for plugin cuBLAS when one has already been registered\n",
      "2022-11-06 07:25:25.608289: W tensorflow/stream_executor/platform/default/dso_loader.cc:64] Could not load dynamic library 'libnvinfer.so.7'; dlerror: libnvinfer.so.7: cannot open shared object file: No such file or directory; LD_LIBRARY_PATH: :/home/andyd/miniconda3/envs/tf/lib/\n",
      "2022-11-06 07:25:25.610991: W tensorflow/stream_executor/platform/default/dso_loader.cc:64] Could not load dynamic library 'libnvinfer_plugin.so.7'; dlerror: libnvinfer_plugin.so.7: cannot open shared object file: No such file or directory; LD_LIBRARY_PATH: :/home/andyd/miniconda3/envs/tf/lib/\n",
      "2022-11-06 07:25:25.611010: W tensorflow/compiler/tf2tensorrt/utils/py_utils.cc:38] TF-TRT Warning: Cannot dlopen some TensorRT libraries. If you would like to use Nvidia GPU with TensorRT, please make sure the missing libraries mentioned above are installed properly.\n",
      "2022-11-06 07:25:27.044671: I tensorflow/stream_executor/cuda/cuda_gpu_executor.cc:966] could not open file to read NUMA node: /sys/bus/pci/devices/0000:01:00.0/numa_node\n",
      "Your kernel may have been built without NUMA support.\n",
      "2022-11-06 07:25:27.048666: I tensorflow/stream_executor/cuda/cuda_gpu_executor.cc:966] could not open file to read NUMA node: /sys/bus/pci/devices/0000:01:00.0/numa_node\n",
      "Your kernel may have been built without NUMA support.\n",
      "2022-11-06 07:25:27.048769: I tensorflow/stream_executor/cuda/cuda_gpu_executor.cc:966] could not open file to read NUMA node: /sys/bus/pci/devices/0000:01:00.0/numa_node\n",
      "Your kernel may have been built without NUMA support.\n",
      "2022-11-06 07:25:29.283711: I tensorflow/core/platform/cpu_feature_guard.cc:193] This TensorFlow binary is optimized with oneAPI Deep Neural Network Library (oneDNN) to use the following CPU instructions in performance-critical operations:  AVX2 FMA\n",
      "To enable them in other operations, rebuild TensorFlow with the appropriate compiler flags.\n",
      "2022-11-06 07:25:29.285073: I tensorflow/stream_executor/cuda/cuda_gpu_executor.cc:966] could not open file to read NUMA node: /sys/bus/pci/devices/0000:01:00.0/numa_node\n",
      "Your kernel may have been built without NUMA support.\n",
      "2022-11-06 07:25:29.285180: I tensorflow/stream_executor/cuda/cuda_gpu_executor.cc:966] could not open file to read NUMA node: /sys/bus/pci/devices/0000:01:00.0/numa_node\n",
      "Your kernel may have been built without NUMA support.\n",
      "2022-11-06 07:25:29.285215: I tensorflow/stream_executor/cuda/cuda_gpu_executor.cc:966] could not open file to read NUMA node: /sys/bus/pci/devices/0000:01:00.0/numa_node\n",
      "Your kernel may have been built without NUMA support.\n",
      "2022-11-06 07:25:29.285587: I tensorflow/stream_executor/cuda/cuda_gpu_executor.cc:966] could not open file to read NUMA node: /sys/bus/pci/devices/0000:01:00.0/numa_node\n",
      "Your kernel may have been built without NUMA support.\n",
      "2022-11-06 07:25:29.285666: I tensorflow/stream_executor/cuda/cuda_gpu_executor.cc:966] could not open file to read NUMA node: /sys/bus/pci/devices/0000:01:00.0/numa_node\n",
      "Your kernel may have been built without NUMA support.\n",
      "2022-11-06 07:25:29.285697: I tensorflow/core/common_runtime/gpu/gpu_device.cc:1700] Could not identify NUMA node of platform GPU id 0, defaulting to 0.  Your kernel may not have been built with NUMA support.\n",
      "2022-11-06 07:25:29.285740: I tensorflow/stream_executor/cuda/cuda_gpu_executor.cc:966] could not open file to read NUMA node: /sys/bus/pci/devices/0000:01:00.0/numa_node\n",
      "Your kernel may have been built without NUMA support.\n",
      "2022-11-06 07:25:29.285792: I tensorflow/core/common_runtime/gpu/gpu_device.cc:1616] Created device /job:localhost/replica:0/task:0/device:GPU:0 with 5889 MB memory:  -> device: 0, name: NVIDIA GeForce RTX 2070 Super, pci bus id: 0000:01:00.0, compute capability: 7.5\n"
     ]
    }
   ],
   "source": [
    "# importing all libraries in one cell\n",
    "import numpy as np\n",
    "import pandas as pd\n",
    "from collections import Counter\n",
    "import matplotlib.pyplot as plt\n",
    "import re\n",
    "import tensorflow as tf\n",
    "import spacy\n",
    "config = tf.compat.v1.ConfigProto()\n",
    "config.gpu_options.allow_growth = True\n",
    "session = tf.compat.v1.Session(config=config)"
   ]
  },
  {
   "cell_type": "code",
   "execution_count": 2,
   "metadata": {},
   "outputs": [],
   "source": [
    "# import the sample dataset, created by Vasu Jain.\n",
    "dataset = pd.read_csv('speechescsv.csv', encoding='unicode_escape')"
   ]
  },
  {
   "cell_type": "code",
   "execution_count": 3,
   "metadata": {},
   "outputs": [],
   "source": [
    "# let the user select a speech and seperate every sentence from it.\n",
    "f = open('sample.txt', 'r', encoding='UTF8')\n",
    "sample = np.array(re.split(r'(\\. )|(\\n)', f.read()))\n",
    "sample = sample[sample != np.array(None)]\n",
    "cleansample = np.array([i for i in sample if len(i) > 6])"
   ]
  },
  {
   "cell_type": "code",
   "execution_count": 4,
   "metadata": {},
   "outputs": [],
   "source": [
    "# load spacy NLP model\n",
    "spacy.prefer_gpu()\n",
    "nlp = spacy.load('en_core_web_lg')"
   ]
  },
  {
   "cell_type": "code",
   "execution_count": 5,
   "metadata": {},
   "outputs": [
    {
     "name": "stdout",
     "output_type": "stream",
     "text": [
      "text     POS    TAG    Dep    POS explained        tag explained \n",
      "I        PRON   PRP    nsubj  pronoun              pronoun, personal\n",
      "have     VERB   VBP    ccomp  verb                 verb, non-3rd person singular present\n",
      "a        DET    DT     det    determiner           determiner\n",
      "dream    NOUN   NN     dobj   noun                 noun, singular or mass\n",
      "that     SCONJ  IN     mark   subordinating conjunction conjunction, subordinating or preposition\n",
      "one      NUM    CD     nummod numeral              cardinal number\n",
      "day      NOUN   NN     npadvmod noun                 noun, singular or mass\n",
      "this     DET    DT     det    determiner           determiner\n",
      "nation   NOUN   NN     nsubj  noun                 noun, singular or mass\n",
      "will     AUX    MD     aux    auxiliary            verb, modal auxiliary\n",
      "rise     VERB   VB     acl    verb                 verb, base form\n",
      "up       ADP    RP     prt    adposition           adverb, particle\n",
      "and      CCONJ  CC     cc     coordinating conjunction conjunction, coordinating\n",
      "live     VERB   VB     conj   verb                 verb, base form\n",
      "out      ADP    RP     prt    adposition           adverb, particle\n",
      "the      DET    DT     det    determiner           determiner\n",
      "true     ADJ    JJ     amod   adjective            adjective (English), other noun-modifier (Chinese)\n",
      "meaning  NOUN   NN     dobj   noun                 noun, singular or mass\n",
      "of       ADP    IN     prep   adposition           conjunction, subordinating or preposition\n",
      "its      PRON   PRP$   poss   pronoun              pronoun, possessive\n",
      "creed    NOUN   NN     pobj   noun                 noun, singular or mass\n",
      ",        PUNCT  ,      punct  punctuation          punctuation mark, comma\n",
      "“        PUNCT  ``     punct  punctuation          opening quotation mark\n",
      "We       PRON   PRP    nsubj  pronoun              pronoun, personal\n",
      "hold     VERB   VBP    ROOT   verb                 verb, non-3rd person singular present\n",
      "these    DET    DT     det    determiner           determiner\n",
      "truths   NOUN   NNS    dobj   noun                 noun, plural\n",
      "to       PART   TO     aux    particle             infinitival \"to\"\n",
      "be       AUX    VB     advcl  auxiliary            verb, base form\n",
      "self     NOUN   NN     npadvmod noun                 noun, singular or mass\n",
      "evident  ADJ    JJ     acomp  adjective            adjective (English), other noun-modifier (Chinese)\n",
      "that     SCONJ  IN     mark   subordinating conjunction conjunction, subordinating or preposition\n",
      "all      DET    DT     det    determiner           determiner\n",
      "men      NOUN   NNS    nsubjpass noun                 noun, plural\n",
      "are      AUX    VBP    auxpass auxiliary            verb, non-3rd person singular present\n",
      "created  VERB   VBN    ccomp  verb                 verb, past participle\n",
      ".        PUNCT  .      punct  punctuation          punctuation mark, sentence closer\n",
      "”        PUNCT  ''     punct  punctuation          closing quotation mark\n"
     ]
    }
   ],
   "source": [
    "# a sample of tokenizing with Spacy\n",
    "doc = nlp(str(cleansample[np.random.randint(0, len(cleansample) - 1)]))\n",
    "\n",
    "print(f\"{'text':{8}} {'POS':{6}} {'TAG':{6}} {'Dep':{6}} {'POS explained':{20}} {'tag explained'} \")\n",
    "for token in doc:\n",
    "    print(f'{token.text:{8}} {token.pos_:{6}} {token.tag_:{6}} {token.dep_:{6}} {spacy.explain(token.pos_):{20}} {spacy.explain(token.tag_)}')"
   ]
  },
  {
   "cell_type": "code",
   "execution_count": 6,
   "metadata": {},
   "outputs": [],
   "source": [
    "# a tangent, making a numpy array with every individual word.\n",
    "words = [i.split() for i in cleansample]\n",
    "punc = '''!()-[]{};:'\"\\,<>./?@#$%^&*_~'''\n",
    "cleanwords = []\n",
    "for i in words:\n",
    "    for x in i:\n",
    "        x.replace(punc, \"\")\n",
    "        cleanwords.append(x.lower())"
   ]
  },
  {
   "cell_type": "code",
   "execution_count": 7,
   "metadata": {},
   "outputs": [
    {
     "name": "stdout",
     "output_type": "stream",
     "text": [
      "count for shall is: 5\n",
      "count for will is: 27\n",
      "count for would is: 2\n",
      "count for must is: 8\n"
     ]
    }
   ],
   "source": [
    "# a simple script to detect persuasive sentences\n",
    "results = dict(Counter(cleanwords))\n",
    "modal = ['shall', 'should', 'will', 'would', 'must', 'ought', 'used', 'need', 'dare']\n",
    "for i in modal:\n",
    "    try:\n",
    "        print(f\"count for {i} is: {results[i]}\")\n",
    "    except:\n",
    "        continue"
   ]
  },
  {
   "cell_type": "code",
   "execution_count": 8,
   "metadata": {},
   "outputs": [],
   "source": [
    "# tokenizing every word with the NLP model.\n",
    "rawspeech = \" \".join(cleansample.tolist())\n",
    "proc = nlp(rawspeech)"
   ]
  },
  {
   "cell_type": "code",
   "execution_count": 9,
   "metadata": {},
   "outputs": [
    {
     "name": "stdout",
     "output_type": "stream",
     "text": [
      "0.6354889093022426\n",
      "-0.12679971754550934\n"
     ]
    }
   ],
   "source": [
    "# Experimental cell to find the best approach to find all 5 scores.\n",
    "auxcount = 0\n",
    "modcount = 0\n",
    "for i in proc:\n",
    "    if i.dep_ == 'aux':\n",
    "        auxcount += 1\n",
    "    if i.text in modal:\n",
    "        modcount += 1\n",
    "\n",
    "PERscore = np.sqrt(modcount/auxcount)\n",
    "print(PERscore)\n",
    "\n",
    "print(proc.similarity(nlp(\"sexy\")))"
   ]
  },
  {
   "cell_type": "code",
   "execution_count": 10,
   "metadata": {},
   "outputs": [],
   "source": [
    "def attrSep(proc: spacy.tokens.doc.Doc) -> list:\n",
    "    info = proc.similarity(nlp('information facts assertion'))\n",
    "    pers = proc.similarity(nlp('imperative persuasive argument'))\n",
    "    desc = proc.similarity(nlp('descriptive demonstration workshop'))\n",
    "    entr = proc.similarity(nlp('entertaining witty engaging'))\n",
    "    cerm = proc.similarity(nlp('occasion ceremony tribute'))\n",
    "    return [info, pers, desc, entr, cerm]"
   ]
  },
  {
   "cell_type": "code",
   "execution_count": 11,
   "metadata": {},
   "outputs": [
    {
     "data": {
      "text/html": [
       "<div>\n",
       "<style scoped>\n",
       "    .dataframe tbody tr th:only-of-type {\n",
       "        vertical-align: middle;\n",
       "    }\n",
       "\n",
       "    .dataframe tbody tr th {\n",
       "        vertical-align: top;\n",
       "    }\n",
       "\n",
       "    .dataframe thead th {\n",
       "        text-align: right;\n",
       "    }\n",
       "</style>\n",
       "<table border=\"1\" class=\"dataframe\">\n",
       "  <thead>\n",
       "    <tr style=\"text-align: right;\">\n",
       "      <th></th>\n",
       "      <th>Title</th>\n",
       "      <th>Date</th>\n",
       "      <th>Author</th>\n",
       "      <th>Speech</th>\n",
       "      <th>Category</th>\n",
       "      <th>cleansample</th>\n",
       "      <th>attribute_scores</th>\n",
       "    </tr>\n",
       "  </thead>\n",
       "  <tbody>\n",
       "    <tr>\n",
       "      <th>0</th>\n",
       "      <td>Eighth Annual Message to Congress</td>\n",
       "      <td>07-12-1796</td>\n",
       "      <td>George Washington</td>\n",
       "      <td>Fellow Citizens of the Senate and House of Rep...</td>\n",
       "      <td>Persuasive</td>\n",
       "      <td>[Fellow Citizens of the Senate and House of Re...</td>\n",
       "      <td>[0.6882321238517761, 0.7473345994949341, 0.724...</td>\n",
       "    </tr>\n",
       "    <tr>\n",
       "      <th>1</th>\n",
       "      <td>Declaration of Independence Anniversary Commem...</td>\n",
       "      <td>05-07-1926</td>\n",
       "      <td>Calvin Coolidge</td>\n",
       "      <td>Fellow Countrymen:\\nWe meet to celebrate the b...</td>\n",
       "      <td>Persuasive</td>\n",
       "      <td>[Fellow Countrymen:, We meet to celebrate the ...</td>\n",
       "      <td>[0.7034996151924133, 0.7708178758621216, 0.709...</td>\n",
       "    </tr>\n",
       "    <tr>\n",
       "      <th>2</th>\n",
       "      <td>Address on the Nuclear Test Ban Treaty</td>\n",
       "      <td>26-07-1963</td>\n",
       "      <td>John F. Kennedy</td>\n",
       "      <td>Good evening, my fellow citizens:\\nI speak to ...</td>\n",
       "      <td>Persuasive</td>\n",
       "      <td>[Good evening, my fellow citizens:, I speak to...</td>\n",
       "      <td>[0.7032520174980164, 0.7680342793464661, 0.697...</td>\n",
       "    </tr>\n",
       "    <tr>\n",
       "      <th>3</th>\n",
       "      <td>Inaugural Address</td>\n",
       "      <td>20-01-2017</td>\n",
       "      <td>Donald Trump</td>\n",
       "      <td>Chief Justice Roberts, President Carter, Presi...</td>\n",
       "      <td>Persuasive</td>\n",
       "      <td>[Chief Justice Roberts, President Carter, Pres...</td>\n",
       "      <td>[0.6646428108215332, 0.731931209564209, 0.6567...</td>\n",
       "    </tr>\n",
       "    <tr>\n",
       "      <th>4</th>\n",
       "      <td>Gettysburg Address</td>\n",
       "      <td>19-11-1863</td>\n",
       "      <td>Abraham Lincoln</td>\n",
       "      <td>Four score and seven years ago our fathers bro...</td>\n",
       "      <td>Persuasive</td>\n",
       "      <td>[Four score and seven years ago our fathers br...</td>\n",
       "      <td>[0.6858447194099426, 0.7594536542892456, 0.655...</td>\n",
       "    </tr>\n",
       "  </tbody>\n",
       "</table>\n",
       "</div>"
      ],
      "text/plain": [
       "                                               Title        Date  \\\n",
       "0                  Eighth Annual Message to Congress  07-12-1796   \n",
       "1  Declaration of Independence Anniversary Commem...  05-07-1926   \n",
       "2             Address on the Nuclear Test Ban Treaty  26-07-1963   \n",
       "3                                  Inaugural Address  20-01-2017   \n",
       "4                                 Gettysburg Address  19-11-1863   \n",
       "\n",
       "              Author                                             Speech  \\\n",
       "0  George Washington  Fellow Citizens of the Senate and House of Rep...   \n",
       "1    Calvin Coolidge  Fellow Countrymen:\\nWe meet to celebrate the b...   \n",
       "2    John F. Kennedy  Good evening, my fellow citizens:\\nI speak to ...   \n",
       "3       Donald Trump  Chief Justice Roberts, President Carter, Presi...   \n",
       "4    Abraham Lincoln  Four score and seven years ago our fathers bro...   \n",
       "\n",
       "     Category                                        cleansample  \\\n",
       "0  Persuasive  [Fellow Citizens of the Senate and House of Re...   \n",
       "1  Persuasive  [Fellow Countrymen:, We meet to celebrate the ...   \n",
       "2  Persuasive  [Good evening, my fellow citizens:, I speak to...   \n",
       "3  Persuasive  [Chief Justice Roberts, President Carter, Pres...   \n",
       "4  Persuasive  [Four score and seven years ago our fathers br...   \n",
       "\n",
       "                                    attribute_scores  \n",
       "0  [0.6882321238517761, 0.7473345994949341, 0.724...  \n",
       "1  [0.7034996151924133, 0.7708178758621216, 0.709...  \n",
       "2  [0.7032520174980164, 0.7680342793464661, 0.697...  \n",
       "3  [0.6646428108215332, 0.731931209564209, 0.6567...  \n",
       "4  [0.6858447194099426, 0.7594536542892456, 0.655...  "
      ]
     },
     "execution_count": 11,
     "metadata": {},
     "output_type": "execute_result"
    }
   ],
   "source": [
    "# a script that cleans every speech in the dataset and adds it to the dataframe\n",
    "# megasample and megawords contain the megaArray that can just be slotted in into the dataframe\n",
    "megasample = []\n",
    "proclist = []\n",
    "mAttList = []\n",
    "# loop the cleaning script across all the speeches of the dataset.\n",
    "# this code can also be used as general cleaning of input data.\n",
    "for number in range(len(dataset)):\n",
    "    cleansample = []\n",
    "    cleanwords = []\n",
    "    # seperate sentences\n",
    "    sample = np.array(re.split(r'(\\. )|(\\n)|(;)', dataset.loc[number, 'Speech']))\n",
    "    sample = sample[sample != np.array(None)]\n",
    "    cleansample = np.array([a for a in sample if len(a) > 4])\n",
    "    megasample.append(cleansample)\n",
    "    # run the model on this particular transcript\n",
    "    rawspeech = \" \".join(cleansample.tolist())\n",
    "    proc = nlp(rawspeech)\n",
    "    proclist.append(proc)\n",
    "    attrList = attrSep(proc)\n",
    "    mAttList.append(attrList)\n",
    "\n",
    "    \n",
    "dataset['cleansample'] = megasample\n",
    "dataset['attribute_scores'] = mAttList\n",
    "dataset.head()"
   ]
  },
  {
   "cell_type": "code",
   "execution_count": 12,
   "metadata": {},
   "outputs": [
    {
     "name": "stdout",
     "output_type": "stream",
     "text": [
      "0.2345651570415537\n",
      "0.2307863058928188\n",
      "0.22066299438649903\n",
      "0.21260124467379418\n",
      "0.23353044847090584\n"
     ]
    },
    {
     "data": {
      "image/png": "[encoded data removed]",
      "text/plain": [
       "<Figure size 640x480 with 1 Axes>"
      ]
     },
     "metadata": {},
     "output_type": "display_data"
    }
   ],
   "source": [
    "attr = []\n",
    "mscaledattr = []\n",
    "nscaledattr = []\n",
    "for x in range(5):\n",
    "    attr.append([i[x] for i in mAttList])\n",
    "    scaledattr = [(i - min(attr[x]))/(max(attr[x]) - min(attr[x])) for i in attr[x]]\n",
    "    plt.scatter(range(len(dataset)) , scaledattr)\n",
    "    #plt.scatter(range(len(dataset)) , attr[x])\n",
    "    print(pd.Series(scaledattr).std())\n",
    "    mscaledattr.append(scaledattr)\n",
    "    nscaledattr.append(attr[x])\n",
    "\n",
    "# testing on sample\n",
    "# doc = nlp(\" \".join(sample.tolist()))\n",
    "# dlist = attrSep(doc)\n",
    "# plt.scatter(range(5), dlist)\n",
    "plt.show()"
   ]
  },
  {
   "cell_type": "code",
   "execution_count": 17,
   "metadata": {},
   "outputs": [],
   "source": [
    "# script to save all the data, for import and analysis later\n",
    "import csv\n",
    "f = open('defdata.csv', 'w')\n",
    "writer = csv.writer(f)\n",
    "writer.writerow(['title', 'speaker', 'classification', 'informative', 'persuasive', 'descriptive', 'entertaining', 'ceremonial'])\n",
    "Tscaledattr = []\n",
    "for i in range(len(nscaledattr[0])):\n",
    "    Tscaledattr.append([dataset.loc[i, 'Title'], dataset.loc[i, 'Author'], dataset.loc[i, 'Category']] \n",
    "        + [x[i] for x in nscaledattr])\n",
    "writer.writerows(i for i in Tscaledattr)\n",
    "f.close()"
   ]
  },
  {
   "cell_type": "code",
   "execution_count": 20,
   "metadata": {},
   "outputs": [
    {
     "name": "stderr",
     "output_type": "stream",
     "text": [
      "/tmp/ipykernel_10761/637654548.py:2: FutureWarning: The default value of numeric_only in DataFrame.std is deprecated. In a future version, it will default to False. In addition, specifying 'numeric_only=None' is deprecated. Select only valid columns or specify the value of numeric_only to silence this warning.\n",
      "  analyse.std().tolist()[-5:]\n"
     ]
    },
    {
     "data": {
      "text/plain": [
       "[0.058327362995528244,\n",
       " 0.057716508824152475,\n",
       " 0.09150666213267902,\n",
       " 0.028642469199074486,\n",
       " 0.05188067126127823]"
      ]
     },
     "execution_count": 20,
     "metadata": {},
     "output_type": "execute_result"
    }
   ],
   "source": [
    "analyse = pd.read_csv('defdata.csv')\n"
   ]
  }
 ],
 "metadata": {
  "kernelspec": {
   "display_name": "Python 3.9.13 ('tf')",
   "language": "python",
   "name": "python3"
  },
  "language_info": {
   "codemirror_mode": {
    "name": "ipython",
    "version": 3
   },
   "file_extension": ".py",
   "mimetype": "text/x-python",
   "name": "python",
   "nbconvert_exporter": "python",
   "pygments_lexer": "ipython3",
   "version": "3.9.13"
  },
  "orig_nbformat": 4,
  "vscode": {
   "interpreter": {
    "hash": "6314624a9b716fa5073b1b74923d7a0fe6a712a100f298bdf1d68454cdfed291"
   }
  }
 },
 "nbformat": 4,
 "nbformat_minor": 2
}
