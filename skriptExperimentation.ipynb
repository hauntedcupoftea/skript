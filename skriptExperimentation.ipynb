{
 "cells": [
  {
   "cell_type": "markdown",
   "metadata": {},
   "source": [
    "## Welcome to Skript.\n",
    "This project is the work of Anand Chauhan, Vasu Jain, and Aayush Gupta. Students enrolled at Bennett University, for the purpose of a Probability and Statistics Hackathon as part of their curriculum."
   ]
  },
  {
   "cell_type": "code",
   "execution_count": 38,
   "metadata": {},
   "outputs": [
    {
     "name": "stderr",
     "output_type": "stream",
     "text": [
      "2022-11-06 11:34:23.896425: I tensorflow/stream_executor/cuda/cuda_gpu_executor.cc:966] could not open file to read NUMA node: /sys/bus/pci/devices/0000:01:00.0/numa_node\n",
      "Your kernel may have been built without NUMA support.\n",
      "2022-11-06 11:34:23.897881: I tensorflow/stream_executor/cuda/cuda_gpu_executor.cc:966] could not open file to read NUMA node: /sys/bus/pci/devices/0000:01:00.0/numa_node\n",
      "Your kernel may have been built without NUMA support.\n",
      "2022-11-06 11:34:23.898062: I tensorflow/stream_executor/cuda/cuda_gpu_executor.cc:966] could not open file to read NUMA node: /sys/bus/pci/devices/0000:01:00.0/numa_node\n",
      "Your kernel may have been built without NUMA support.\n",
      "2022-11-06 11:34:23.905364: I tensorflow/stream_executor/cuda/cuda_gpu_executor.cc:966] could not open file to read NUMA node: /sys/bus/pci/devices/0000:01:00.0/numa_node\n",
      "Your kernel may have been built without NUMA support.\n",
      "2022-11-06 11:34:23.905444: I tensorflow/core/common_runtime/gpu/gpu_device.cc:1700] Could not identify NUMA node of platform GPU id 0, defaulting to 0.  Your kernel may not have been built with NUMA support.\n",
      "2022-11-06 11:34:23.905651: I tensorflow/stream_executor/cuda/cuda_gpu_executor.cc:966] could not open file to read NUMA node: /sys/bus/pci/devices/0000:01:00.0/numa_node\n",
      "Your kernel may have been built without NUMA support.\n",
      "2022-11-06 11:34:23.906096: I tensorflow/core/common_runtime/gpu/gpu_device.cc:1616] Created device /job:localhost/replica:0/task:0/device:GPU:0 with 5889 MB memory:  -> device: 0, name: NVIDIA GeForce RTX 2070 Super, pci bus id: 0000:01:00.0, compute capability: 7.5\n"
     ]
    }
   ],
   "source": [
    "# importing all libraries in one cell\n",
    "import numpy as np\n",
    "import pandas as pd\n",
    "from collections import Counter\n",
    "import matplotlib.pyplot as plt\n",
    "import re\n",
    "import tensorflow as tf\n",
    "import spacy\n",
    "config = tf.compat.v1.ConfigProto()\n",
    "config.gpu_options.allow_growth = True\n",
    "session = tf.compat.v1.Session(config=config)"
   ]
  },
  {
   "cell_type": "code",
   "execution_count": 39,
   "metadata": {},
   "outputs": [],
   "source": [
    "# import the sample dataset, created by Vasu Jain.\n",
    "dataset = pd.read_csv('speechescsv.csv', encoding='unicode_escape')"
   ]
  },
  {
   "cell_type": "code",
   "execution_count": 40,
   "metadata": {},
   "outputs": [],
   "source": [
    "# let the user select a speech and seperate every sentence from it.\n",
    "f = open('sample.txt', 'r', encoding='UTF8')\n",
    "sample = np.array(re.split(r'(\\. )|(\\n)', f.read()))\n",
    "sample = sample[sample != np.array(None)]\n",
    "cleansample = np.array([i for i in sample if len(i) > 6])"
   ]
  },
  {
   "cell_type": "code",
   "execution_count": 41,
   "metadata": {},
   "outputs": [],
   "source": [
    "# load spacy NLP model\n",
    "spacy.prefer_gpu()\n",
    "nlp = spacy.load('en_core_web_lg')"
   ]
  },
  {
   "cell_type": "code",
   "execution_count": 42,
   "metadata": {},
   "outputs": [
    {
     "name": "stdout",
     "output_type": "stream",
     "text": [
      "text     POS    TAG    Dep    POS explained        tag explained \n",
      "I        PRON   PRP    nsubj  pronoun              pronoun, personal\n",
      "have     VERB   VBP    ROOT   verb                 verb, non-3rd person singular present\n",
      "a        DET    DT     det    determiner           determiner\n",
      "dream    NOUN   NN     dobj   noun                 noun, singular or mass\n",
      "that     SCONJ  IN     mark   subordinating conjunction conjunction, subordinating or preposition\n",
      "one      NUM    CD     nummod numeral              cardinal number\n",
      "day      NOUN   NN     npadvmod noun                 noun, singular or mass\n",
      ",        PUNCT  ,      punct  punctuation          punctuation mark, comma\n",
      "even     ADV    RB     advmod adverb               adverb\n",
      "the      DET    DT     det    determiner           determiner\n",
      "state    NOUN   NN     appos  noun                 noun, singular or mass\n",
      "of       ADP    IN     prep   adposition           conjunction, subordinating or preposition\n",
      "Mississippi PROPN  NNP    pobj   proper noun          noun, proper singular\n",
      ",        PUNCT  ,      punct  punctuation          punctuation mark, comma\n",
      "a        DET    DT     det    determiner           determiner\n",
      "state    NOUN   NN     appos  noun                 noun, singular or mass\n",
      "sweltering VERB   VBG    acl    verb                 verb, gerund or present participle\n",
      "with     ADP    IN     prep   adposition           conjunction, subordinating or preposition\n",
      "the      DET    DT     det    determiner           determiner\n",
      "heat     NOUN   NN     pobj   noun                 noun, singular or mass\n",
      "of       ADP    IN     prep   adposition           conjunction, subordinating or preposition\n",
      "injustice NOUN   NN     pobj   noun                 noun, singular or mass\n",
      ",        PUNCT  ,      punct  punctuation          punctuation mark, comma\n",
      "sweltering VERB   VBG    advcl  verb                 verb, gerund or present participle\n",
      "with     ADP    IN     prep   adposition           conjunction, subordinating or preposition\n",
      "the      DET    DT     det    determiner           determiner\n",
      "heat     NOUN   NN     pobj   noun                 noun, singular or mass\n",
      "of       ADP    IN     prep   adposition           conjunction, subordinating or preposition\n",
      "oppression NOUN   NN     pobj   noun                 noun, singular or mass\n",
      ",        PUNCT  ,      punct  punctuation          punctuation mark, comma\n",
      "will     AUX    MD     aux    auxiliary            verb, modal auxiliary\n",
      "be       AUX    VB     auxpass auxiliary            verb, base form\n",
      "transformed VERB   VBN    acl    verb                 verb, past participle\n",
      "into     ADP    IN     prep   adposition           conjunction, subordinating or preposition\n",
      "an       DET    DT     det    determiner           determiner\n",
      "oasis    NOUN   NN     pobj   noun                 noun, singular or mass\n",
      "of       ADP    IN     prep   adposition           conjunction, subordinating or preposition\n",
      "freedom  NOUN   NN     pobj   noun                 noun, singular or mass\n",
      "and      CCONJ  CC     cc     coordinating conjunction conjunction, coordinating\n",
      "justice  NOUN   NN     conj   noun                 noun, singular or mass\n"
     ]
    }
   ],
   "source": [
    "# a sample of tokenizing with Spacy\n",
    "doc = nlp(str(cleansample[np.random.randint(0, len(cleansample) - 1)]))\n",
    "\n",
    "print(f\"{'text':{8}} {'POS':{6}} {'TAG':{6}} {'Dep':{6}} {'POS explained':{20}} {'tag explained'} \")\n",
    "for token in doc:\n",
    "    print(f'{token.text:{8}} {token.pos_:{6}} {token.tag_:{6}} {token.dep_:{6}} {spacy.explain(token.pos_):{20}} {spacy.explain(token.tag_)}')"
   ]
  },
  {
   "cell_type": "code",
   "execution_count": 43,
   "metadata": {},
   "outputs": [],
   "source": [
    "# a tangent, making a numpy array with every individual word.\n",
    "words = [i.split() for i in cleansample]\n",
    "punc = '''!()-[]{};:'\"\\,<>./?@#$%^&*_~'''\n",
    "cleanwords = []\n",
    "for i in words:\n",
    "    for x in i:\n",
    "        x.replace(punc, \"\")\n",
    "        cleanwords.append(x.lower())"
   ]
  },
  {
   "cell_type": "code",
   "execution_count": 44,
   "metadata": {},
   "outputs": [
    {
     "name": "stdout",
     "output_type": "stream",
     "text": [
      "count for shall is: 5\n",
      "count for will is: 27\n",
      "count for would is: 2\n",
      "count for must is: 8\n"
     ]
    }
   ],
   "source": [
    "# a simple script to detect persuasive sentences\n",
    "results = dict(Counter(cleanwords))\n",
    "modal = ['shall', 'should', 'will', 'would', 'must', 'ought', 'used', 'need', 'dare']\n",
    "for i in modal:\n",
    "    try:\n",
    "        print(f\"count for {i} is: {results[i]}\")\n",
    "    except:\n",
    "        continue"
   ]
  },
  {
   "cell_type": "code",
   "execution_count": 45,
   "metadata": {},
   "outputs": [],
   "source": [
    "# tokenizing every word with the NLP model.\n",
    "rawspeech = \" \".join(cleansample.tolist())\n",
    "proc = nlp(rawspeech)"
   ]
  },
  {
   "cell_type": "code",
   "execution_count": 46,
   "metadata": {},
   "outputs": [
    {
     "name": "stdout",
     "output_type": "stream",
     "text": [
      "0.6354889093022426\n",
      "-0.12679971754550934\n"
     ]
    }
   ],
   "source": [
    "# Experimental cell to find the best approach to find all 5 scores.\n",
    "auxcount = 0\n",
    "modcount = 0\n",
    "for i in proc:\n",
    "    if i.dep_ == 'aux':\n",
    "        auxcount += 1\n",
    "    if i.text in modal:\n",
    "        modcount += 1\n",
    "\n",
    "PERscore = np.sqrt(modcount/auxcount)\n",
    "print(PERscore)\n",
    "\n",
    "print(proc.similarity(nlp(\"sexy\")))"
   ]
  },
  {
   "cell_type": "code",
   "execution_count": 47,
   "metadata": {},
   "outputs": [],
   "source": [
    "def attrSep(proc: spacy.tokens.doc.Doc) -> list:\n",
    "    info = proc.similarity(nlp('information facts assertion'))\n",
    "    pers = proc.similarity(nlp('imperative persuasive argument'))\n",
    "    desc = proc.similarity(nlp('descriptive demonstration workshop'))\n",
    "    entr = proc.similarity(nlp('entertaining witty engaging'))\n",
    "    cerm = proc.similarity(nlp('occasion ceremony tribute'))\n",
    "    return [info, pers, desc, entr, cerm]"
   ]
  },
  {
   "cell_type": "code",
   "execution_count": 48,
   "metadata": {},
   "outputs": [
    {
     "data": {
      "text/html": [
       "<div>\n",
       "<style scoped>\n",
       "    .dataframe tbody tr th:only-of-type {\n",
       "        vertical-align: middle;\n",
       "    }\n",
       "\n",
       "    .dataframe tbody tr th {\n",
       "        vertical-align: top;\n",
       "    }\n",
       "\n",
       "    .dataframe thead th {\n",
       "        text-align: right;\n",
       "    }\n",
       "</style>\n",
       "<table border=\"1\" class=\"dataframe\">\n",
       "  <thead>\n",
       "    <tr style=\"text-align: right;\">\n",
       "      <th></th>\n",
       "      <th>Title</th>\n",
       "      <th>Date</th>\n",
       "      <th>Author</th>\n",
       "      <th>Speech</th>\n",
       "      <th>Category</th>\n",
       "      <th>cleansample</th>\n",
       "      <th>attribute_scores</th>\n",
       "    </tr>\n",
       "  </thead>\n",
       "  <tbody>\n",
       "    <tr>\n",
       "      <th>0</th>\n",
       "      <td>Eighth Annual Message to Congress</td>\n",
       "      <td>07-12-1796</td>\n",
       "      <td>George Washington</td>\n",
       "      <td>Fellow Citizens of the Senate and House of Rep...</td>\n",
       "      <td>Persuasive</td>\n",
       "      <td>[Fellow Citizens of the Senate and House of Re...</td>\n",
       "      <td>[0.6882321238517761, 0.7473345994949341, 0.724...</td>\n",
       "    </tr>\n",
       "    <tr>\n",
       "      <th>1</th>\n",
       "      <td>Declaration of Independence Anniversary Commem...</td>\n",
       "      <td>05-07-1926</td>\n",
       "      <td>Calvin Coolidge</td>\n",
       "      <td>Fellow Countrymen:\\nWe meet to celebrate the b...</td>\n",
       "      <td>Persuasive</td>\n",
       "      <td>[Fellow Countrymen:, We meet to celebrate the ...</td>\n",
       "      <td>[0.7034996151924133, 0.7708178758621216, 0.709...</td>\n",
       "    </tr>\n",
       "    <tr>\n",
       "      <th>2</th>\n",
       "      <td>Address on the Nuclear Test Ban Treaty</td>\n",
       "      <td>26-07-1963</td>\n",
       "      <td>John F. Kennedy</td>\n",
       "      <td>Good evening, my fellow citizens:\\nI speak to ...</td>\n",
       "      <td>Persuasive</td>\n",
       "      <td>[Good evening, my fellow citizens:, I speak to...</td>\n",
       "      <td>[0.7032520174980164, 0.7680342793464661, 0.697...</td>\n",
       "    </tr>\n",
       "    <tr>\n",
       "      <th>3</th>\n",
       "      <td>Inaugural Address</td>\n",
       "      <td>20-01-2017</td>\n",
       "      <td>Donald Trump</td>\n",
       "      <td>Chief Justice Roberts, President Carter, Presi...</td>\n",
       "      <td>Persuasive</td>\n",
       "      <td>[Chief Justice Roberts, President Carter, Pres...</td>\n",
       "      <td>[0.6646428108215332, 0.731931209564209, 0.6567...</td>\n",
       "    </tr>\n",
       "    <tr>\n",
       "      <th>4</th>\n",
       "      <td>Gettysburg Address</td>\n",
       "      <td>19-11-1863</td>\n",
       "      <td>Abraham Lincoln</td>\n",
       "      <td>Four score and seven years ago our fathers bro...</td>\n",
       "      <td>Persuasive</td>\n",
       "      <td>[Four score and seven years ago our fathers br...</td>\n",
       "      <td>[0.6858447194099426, 0.7594536542892456, 0.655...</td>\n",
       "    </tr>\n",
       "  </tbody>\n",
       "</table>\n",
       "</div>"
      ],
      "text/plain": [
       "                                               Title        Date  \\\n",
       "0                  Eighth Annual Message to Congress  07-12-1796   \n",
       "1  Declaration of Independence Anniversary Commem...  05-07-1926   \n",
       "2             Address on the Nuclear Test Ban Treaty  26-07-1963   \n",
       "3                                  Inaugural Address  20-01-2017   \n",
       "4                                 Gettysburg Address  19-11-1863   \n",
       "\n",
       "              Author                                             Speech  \\\n",
       "0  George Washington  Fellow Citizens of the Senate and House of Rep...   \n",
       "1    Calvin Coolidge  Fellow Countrymen:\\nWe meet to celebrate the b...   \n",
       "2    John F. Kennedy  Good evening, my fellow citizens:\\nI speak to ...   \n",
       "3       Donald Trump  Chief Justice Roberts, President Carter, Presi...   \n",
       "4    Abraham Lincoln  Four score and seven years ago our fathers bro...   \n",
       "\n",
       "     Category                                        cleansample  \\\n",
       "0  Persuasive  [Fellow Citizens of the Senate and House of Re...   \n",
       "1  Persuasive  [Fellow Countrymen:, We meet to celebrate the ...   \n",
       "2  Persuasive  [Good evening, my fellow citizens:, I speak to...   \n",
       "3  Persuasive  [Chief Justice Roberts, President Carter, Pres...   \n",
       "4  Persuasive  [Four score and seven years ago our fathers br...   \n",
       "\n",
       "                                    attribute_scores  \n",
       "0  [0.6882321238517761, 0.7473345994949341, 0.724...  \n",
       "1  [0.7034996151924133, 0.7708178758621216, 0.709...  \n",
       "2  [0.7032520174980164, 0.7680342793464661, 0.697...  \n",
       "3  [0.6646428108215332, 0.731931209564209, 0.6567...  \n",
       "4  [0.6858447194099426, 0.7594536542892456, 0.655...  "
      ]
     },
     "execution_count": 48,
     "metadata": {},
     "output_type": "execute_result"
    }
   ],
   "source": [
    "# a script that cleans every speech in the dataset and adds it to the dataframe\n",
    "# megasample and megawords contain the megaArray that can just be slotted in into the dataframe\n",
    "megasample = []\n",
    "proclist = []\n",
    "mAttList = []\n",
    "# loop the cleaning script across all the speeches of the dataset.\n",
    "# this code can also be used as general cleaning of input data.\n",
    "for number in range(len(dataset)):\n",
    "    cleansample = []\n",
    "    cleanwords = []\n",
    "    # seperate sentences\n",
    "    sample = np.array(re.split(r'(\\. )|(\\n)|(;)', dataset.loc[number, 'Speech']))\n",
    "    sample = sample[sample != np.array(None)]\n",
    "    cleansample = np.array([a for a in sample if len(a) > 4])\n",
    "    megasample.append(cleansample)\n",
    "    # run the model on this particular transcript\n",
    "    rawspeech = \" \".join(cleansample.tolist())\n",
    "    proc = nlp(rawspeech)\n",
    "    proclist.append(proc)\n",
    "    attrList = attrSep(proc)\n",
    "    mAttList.append(attrList)\n",
    "\n",
    "    \n",
    "dataset['cleansample'] = megasample\n",
    "dataset['attribute_scores'] = mAttList\n",
    "dataset.head()"
   ]
  },
  {
   "cell_type": "code",
   "execution_count": 49,
   "metadata": {},
   "outputs": [
    {
     "name": "stdout",
     "output_type": "stream",
     "text": [
      "0.2345651570415537\n",
      "0.2307863058928188\n",
      "0.22066299438649903\n",
      "0.21260124467379418\n",
      "0.23353044847090584\n"
     ]
    },
    {
     "data": {
      "image/png": "[encoded data removed]",
      "text/plain": [
       "<Figure size 640x480 with 1 Axes>"
      ]
     },
     "metadata": {},
     "output_type": "display_data"
    }
   ],
   "source": [
    "attr = []\n",
    "mscaledattr = []\n",
    "nscaledattr = []\n",
    "for x in range(5):\n",
    "    attr.append([i[x] for i in mAttList])\n",
    "    scaledattr = [(i - min(attr[x]))/(max(attr[x]) - min(attr[x])) for i in attr[x]]\n",
    "    plt.scatter(range(len(dataset)) , np.power(scaledattr, 2))\n",
    "    #plt.scatter(range(len(dataset)) , attr[x])\n",
    "    print(pd.Series(scaledattr).std())\n",
    "    mscaledattr.append(scaledattr)\n",
    "    nscaledattr.append(attr[x])\n",
    "\n",
    "# testing on sample\n",
    "# doc = nlp(\" \".join(sample.tolist()))\n",
    "# dlist = attrSep(doc)\n",
    "# plt.scatter(range(5), dlist)\n",
    "plt.show()"
   ]
  },
  {
   "cell_type": "code",
   "execution_count": 50,
   "metadata": {},
   "outputs": [],
   "source": [
    "# script to save all the data, for import and analysis later\n",
    "import csv\n",
    "f = open('defdata.csv', 'w')\n",
    "writer = csv.writer(f)\n",
    "writer.writerow(['title', 'speaker', 'classification', 'informative', 'persuasive', 'descriptive', 'entertaining', 'ceremonial'])\n",
    "Tscaledattr = []\n",
    "for i in range(len(nscaledattr[0])):\n",
    "    Tscaledattr.append([dataset.loc[i, 'Title'], dataset.loc[i, 'Author'], dataset.loc[i, 'Category']] \n",
    "        + [x[i] for x in nscaledattr])\n",
    "writer.writerows(i for i in Tscaledattr)\n",
    "f.close()"
   ]
  },
  {
   "cell_type": "code",
   "execution_count": 51,
   "metadata": {},
   "outputs": [],
   "source": [
    "analyse = pd.read_csv('defdata.csv')\n"
   ]
  }
 ],
 "metadata": {
  "kernelspec": {
   "display_name": "Python 3.9.13 ('tf')",
   "language": "python",
   "name": "python3"
  },
  "language_info": {
   "codemirror_mode": {
    "name": "ipython",
    "version": 3
   },
   "file_extension": ".py",
   "mimetype": "text/x-python",
   "name": "python",
   "nbconvert_exporter": "python",
   "pygments_lexer": "ipython3",
   "version": "3.9.13"
  },
  "orig_nbformat": 4,
  "vscode": {
   "interpreter": {
    "hash": "6314624a9b716fa5073b1b74923d7a0fe6a712a100f298bdf1d68454cdfed291"
   }
  }
 },
 "nbformat": 4,
 "nbformat_minor": 2
}
