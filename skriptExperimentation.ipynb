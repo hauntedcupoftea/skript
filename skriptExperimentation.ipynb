{
 "cells": [
  {
   "cell_type": "code",
   "execution_count": null,
   "metadata": {},
   "outputs": [],
   "source": []
  }
 ],
 "metadata": {
  "kernelspec": {
   "display_name": "Python 3.9.13 64-bit (microsoft store)",
   "language": "python",
   "name": "python3"
  },
  "language_info": {
   "name": "python",
   "version": "3.9.13"
  },
  "orig_nbformat": 4,
  "vscode": {
   "interpreter": {
    "hash": "30e0093a970397ed409900a398af9a89913422676cb23e3d71f945f13aa175f8"
   }
  }
 },
 "nbformat": 4,
 "nbformat_minor": 2
}
